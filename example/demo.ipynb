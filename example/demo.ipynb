{
 "cells": [
  {
   "cell_type": "markdown",
   "metadata": {},
   "source": [
    "# NLP Preprocessing Toolkit"
   ]
  },
  {
   "cell_type": "code",
   "execution_count": 1,
   "metadata": {},
   "outputs": [],
   "source": [
    "from Turkish_Preprocessing.modules.tokenizer import Tokenizer\n",
    "from Turkish_Preprocessing.modules.splitter import SentenceSplitter\n",
    "from Turkish_Preprocessing.modules.normalization import Normalization\n",
    "from Turkish_Preprocessing.modules.stopwords import StopwordRemoval\n",
    "from Turkish_Preprocessing.modules.stemmer import Stemmer"
   ]
  },
  {
   "cell_type": "code",
   "execution_count": 2,
   "metadata": {},
   "outputs": [],
   "source": [
    "sample_text = \"\"\"Şahap Kavcıoğlu (Başkan), Taha Çakmak, Mustafa Duman, Elif Haykır Hobikoğlu, Emrah Şener, Yusuf Tuna. Para Politikası Kurulu (Kurul), politika faizi olan bir hafta vadeli repo ihale faiz oranının yüzde 16’dan yüzde 15’e indirilmesine karar vermiştir. Küresel iktisadi faaliyette yılın ilk yarısında yaşanan toparlanma ve aşılama oranlarındaki artışa rağmen salgında yeni varyantlar küresel iktisadi faaliyet üzerindeki aşağı yönlü riskleri canlı tutmaktadır. Küresel talepteki toparlanma, emtia fiyatlarındaki yüksek seyir, bazı sektörlerdeki arz kısıtları ve taşımacılık maliyetlerindeki artış uluslararası ölçekte üretici ve tüketici fiyatlarının yükselmesine yol açmaktadır. Başlıca tarımsal emtia ihracatçısı ülkelerde yaşanan iklim koşullarının küresel gıda fiyatları üzerinde olumsuz yansımaları görülmektedir. Yüksek küresel enflasyonun, enflasyon beklentileri ve uluslararası finansal piyasalar üzerindeki etkileri yakından izlenmekle birlikte, gelişmiş ülke merkez bankaları artan enerji fiyatları ve arz-talep uyumsuzluğuna bağlı olarak enflasyonda görülen yükselişin beklenenden uzun sürebileceğini değerlendirmektedir. Bu çerçevede, gelişmiş ülke merkez bankaları destekleyici parasal duruşlarını sürdürmekte, varlık alım programlarına devam etmektedir. Öncü göstergeler yurt içinde iktisadi faaliyetin dış talebin de etkisiyle güçlü seyrettiğine işaret etmektedir. Aşılamanın toplumun geneline yayılması salgından olumsuz etkilenen hizmetler, turizm ve bağlantılı sektörlerin canlanmasına ve iktisadi faaliyetin daha dengeli bir bileşimle sürdürülmesine olanak tanımaktadır. Dayanıklı tüketim malları talebi yavaşlarken, dayanıksız tüketim mallarında toparlanma devam etmektedir. İhracattaki güçlü artış eğilimiyle yılın geri kalanında yıllıklandırılmış cari işlemler denge-\n",
    "sindeki iyileşmenin sürmesi beklenmekte, bu eğilimin güçlenerek devam etmesi fiyat istikrarı hedefi için önem arz etmektedir.\"\"\""
   ]
  },
  {
   "cell_type": "markdown",
   "metadata": {},
   "source": [
    "## Tokenizer"
   ]
  },
  {
   "cell_type": "code",
   "execution_count": 3,
   "metadata": {},
   "outputs": [],
   "source": [
    "tokenizer = Tokenizer()"
   ]
  },
  {
   "cell_type": "code",
   "execution_count": 4,
   "metadata": {},
   "outputs": [
    {
     "name": "stdout",
     "output_type": "stream",
     "text": [
      "['Şahap', 'Kavcıoğlu', '', '(', 'Başkan', ')', '', ',', 'Taha', 'Çakmak', ',', 'Mustafa', 'Duman', ',', 'Elif', 'Haykır', 'Hobikoğlu', ',', 'Emrah', 'Şener', ',', 'Yusuf', 'Tuna.', 'Para', 'Politikası', 'Kurulu', '', '(', 'Kurul', ')', '', ',', 'politika', 'faizi', 'olan', 'bir', 'hafta', 'vadeli', 'repo', 'ihale', 'faiz', 'oranının', 'yüzde', '16’dan', 'yüzde', '15’e', 'indirilmesine', 'karar_ver.', 'Küresel', 'iktisadi', 'faaliyette', 'yılın', 'ilk', 'yarısında', 'yaşanan', 'toparlanma', 've', 'aşılama', 'oranlarındaki', 'artışa', 'rağmen', 'salgında', 'yeni', 'varyantlar', 'küresel', 'iktisadi', 'faaliyet', 'üzerindeki', 'aşağı', 'yönlü', 'riskleri', 'canlı', 'tutmaktadır.', 'Küresel', 'talepteki', 'toparlanma', ',', 'emtia', 'fiyatlarındaki', 'yüksek', 'seyir', ',', 'bazı', 'sektörlerdeki', 'arz', 'kısıtları', 've', 'taşımacılık', 'maliyetlerindeki', 'artış', 'uluslararası', 'ölçekte', 'üretici', 've', 'tüketici', 'fiyatlarının', 'yükselmesine', 'yol_aç.', 'Başlıca', 'tarımsal', 'emtia', 'ihracatçısı', 'ülkelerde', 'yaşanan', 'iklim', 'koşullarının', 'küresel', 'gıda', 'fiyatları', 'üzerinde', 'olumsuz', 'yansımaları', 'görülmektedir.', 'Yüksek', 'küresel', 'enflasyonun', ',', 'enflasyon', 'beklentileri', 've', 'uluslararası', 'finansal', 'piyasalar', 'üzerindeki', 'etkileri', 'yakından', 'izlenmekle', 'birlikte', ',', 'gelişmiş', 'ülke', 'merkez', 'bankaları', 'artan', 'enerji', 'fiyatları', 've', 'arz-talep', 'uyumsuzluğuna', 'bsağ_ol', 'enflasyonda', 'görülen', 'yükselişin', 'beklenenden', 'uzun', 'sürebileceğini', 'değerlendirmektedir.', 'Bu', 'çerçevede', ',', 'gelişmiş', 'ülke', 'merkez', 'bankal_destet', 'parasal', 'duruşlarını', 'sürdürmekte', ',', 'varlık', 'alım', 'programlarına', 'devam_et.', 'Öncü', 'göstergeler', 'yurt', 'içinde', 'iktisadi', 'faaliyetin', 'dış', 'talebin', 'de', 'etkisiyle', 'güçlü', 'seyrettiğine', 'işaret_et.', 'Aşılamanın', 'toplumun', 'geneline', 'yayılması', 'salgından', 'olumsuz', 'etkilenen', 'hizmetler', ',', 'turizm', 've', 'bağlantılı', 'sektörlerin', 'canlanmasına', 've', 'iktisadi', 'faaliyetin', 'daha', 'dengeli', 'bir', 'bileşimle', 'sürdürülmesine_ol', 'tanımaktadır.', 'Dayanıklı', 'tüketim', 'malları', 'talebi', 'yavaşlarken', ',', 'dayanıksız', 'tüketim', 'mallarında', 'toparlanma', 'devam_et.', 'İhracattaki', 'güçlü', 'artış', 'eğilimiyle', 'yılın', 'geri', 'kalanında', 'yıllıklandırılmış', 'cari', 'işlemler', 'denge-\\nsindeki', 'iyileşmenin', 'sürmesi', 'beklenmekte', ',', 'bu', 'eğilimin', 'güçlenerek', 'devam_et', 'fiyat', 'istikrarı', 'hedefi', 'için', 'önem', 'arz_et.']\n"
     ]
    }
   ],
   "source": [
    "print(tokenizer.RuleBasedTokenizer(sample_text))"
   ]
  },
  {
   "cell_type": "code",
   "execution_count": 5,
   "metadata": {},
   "outputs": [
    {
     "name": "stdout",
     "output_type": "stream",
     "text": [
      "['Şahap', 'Kavcıoğlu', '(Başkan)', 'Taha', 'Çakmak', 'Mustafa', 'Duman', 'Elif', 'Haykır', 'Hobikoğlu', 'Emrah', 'Şener', 'Yusuf', 'Tuna', 'Para', 'Politikası', 'Kurulu', '(Kurul)', 'politika', 'faizi', 'olan', 'bir', 'hafta', 'vadeli', 'repo', 'ihale', 'faiz', 'oranının', 'yüzde', '16’dan', 'yüzde', '15’e', 'indirilmesine', 'karar', 'vermiştir', 'Küresel', 'iktisadi', 'faaliyette', 'yılın', 'ilk', 'yarısında', 'yaşanan', 'toparlanma', 've', 'aşılama', 'oranlarındaki', 'artışa', 'rağmen', 'salgında', 'yeni', 'varyantlar', 'küresel', 'iktisadi', 'faaliyet', 'üzerindeki', 'aşağı', 'yönlü', 'riskleri', 'canlı', 'tutmaktadır', 'Küresel', 'talepteki', 'toparlanma', 'emtia', 'fiyatlarındaki', 'yüksek', 'seyir', 'bazı', 'sektörlerdeki', 'arz', 'kısıtları', 've', 'taşımacılık', 'maliyetlerindeki', 'artış', 'uluslararası', 'ölçekte', 'üretici', 've', 'tüketici', 'fiyatlarının', 'yükselmesine', 'yol', 'açmaktadır', 'Başlıca', 'tarımsal', 'emtia', 'ihracatçısı', 'ülkelerde', 'yaşanan', 'iklim', 'koşullarının', 'küresel', 'gıda', 'fiyatları', 'üzerinde', 'olumsuz', 'yansımaları', 'görülmektedir', 'Yüksek', 'küresel', 'enflasyonun', 'enflasyon', 'beklentileri', 've', 'uluslararası', 'finansal', 'piyasalar', 'üzerindeki', 'etkileri', 'yakından', 'izlenmekle', 'birlikte', 'gelişmiş', 'ülke', 'merkez', 'bankaları', 'artan', 'enerji', 'fiyatları', 've', 'arz-talep', 'uyumsuzluğuna', 'bağlı', 'olarak', 'enflasyonda', 'görülen', 'yükselişin', 'beklenenden', 'uzun', 'sürebileceğini', 'değerlendirmektedir', 'Bu', 'çerçevede', 'gelişmiş', 'ülke', 'merkez', 'bankaları', 'destekleyici', 'parasal', 'duruşlarını', 'sürdürmekte', 'varlık', 'alım', 'programlarına', 'devam', 'etmektedir', 'Öncü', 'göstergeler', 'yurt', 'içinde', 'iktisadi', 'faaliyetin', 'dış', 'talebin', 'de', 'etkisiyle', 'güçlü', 'seyrettiğine', 'işaret', 'etmektedir', 'Aşılamanın', 'toplumun', 'geneline', 'yayılması', 'salgından', 'olumsuz', 'etkilenen', 'hizmetler', 'turizm', 've', 'bağlantılı', 'sektörlerin', 'canlanmasına', 've', 'iktisadi', 'faaliyetin', 'daha', 'dengeli', 'bir', 'bileşimle', 'sürdürülmesine', 'olanak', 'tanımaktadır', 'Dayanıklı', 'tüketim', 'malları', 'talebi', 'yavaşlarken', 'dayanıksız', 'tüketim', 'mallarında', 'toparlanma', 'devam', 'etmektedir', 'İhracattaki', 'güçlü', 'artış', 'eğilimiyle', 'yılın', 'geri', 'kalanında', 'yıllıklandırılmış', 'cari', 'işlemler', 'denge-\\nsindeki', 'iyileşmenin', 'sürmesi', 'beklenmekte', 'bu', 'eğilimin', 'güçlenerek', 'devam', 'etmesi', 'fiyat', 'istikrarı', 'hedefi', 'için', 'önem', 'arz', 'etmektedir']\n"
     ]
    }
   ],
   "source": [
    "print(tokenizer.LogisticTokenizer(sample_text))"
   ]
  },
  {
   "cell_type": "code",
   "execution_count": 6,
   "metadata": {},
   "outputs": [
    {
     "name": "stdout",
     "output_type": "stream",
     "text": [
      "              precision    recall  f1-score   support\n",
      "\n",
      "           0       0.84      1.00      0.91     81326\n",
      "           1       0.00      0.00      0.00     15981\n",
      "\n",
      "    accuracy                           0.84     97307\n",
      "   macro avg       0.42      0.50      0.46     97307\n",
      "weighted avg       0.70      0.84      0.76     97307\n",
      "\n"
     ]
    },
    {
     "name": "stderr",
     "output_type": "stream",
     "text": [
      "/home/kara/anaconda3/lib/python3.8/site-packages/sklearn/metrics/_classification.py:1245: UndefinedMetricWarning: Precision and F-score are ill-defined and being set to 0.0 in labels with no predicted samples. Use `zero_division` parameter to control this behavior.\n",
      "  _warn_prf(average, modifier, msg_start, len(result))\n",
      "/home/kara/anaconda3/lib/python3.8/site-packages/sklearn/metrics/_classification.py:1245: UndefinedMetricWarning: Precision and F-score are ill-defined and being set to 0.0 in labels with no predicted samples. Use `zero_division` parameter to control this behavior.\n",
      "  _warn_prf(average, modifier, msg_start, len(result))\n",
      "/home/kara/anaconda3/lib/python3.8/site-packages/sklearn/metrics/_classification.py:1245: UndefinedMetricWarning: Precision and F-score are ill-defined and being set to 0.0 in labels with no predicted samples. Use `zero_division` parameter to control this behavior.\n",
      "  _warn_prf(average, modifier, msg_start, len(result))\n"
     ]
    }
   ],
   "source": [
    "print(tokenizer.model_accuracy())"
   ]
  },
  {
   "cell_type": "code",
   "execution_count": 7,
   "metadata": {},
   "outputs": [],
   "source": [
    "splitter = SentenceSplitter()"
   ]
  },
  {
   "cell_type": "code",
   "execution_count": 8,
   "metadata": {},
   "outputs": [
    {
     "name": "stdout",
     "output_type": "stream",
     "text": [
      "['Şahap Kavcıoğlu (Başkan), Taha Çakmak, Mustafa Duman, Elif Haykır Hobikoğlu, Emrah Şener, Yusuf Tuna.', ' Para Politikası Kurulu (Kurul), politika faizi olan bir hafta vadeli repo ihale faiz oranının yüzde 16’dan yüzde 15’e indirilmesine karar vermiştir.', ' Küresel iktisadi faaliyette yılın ilk yarısında yaşanan toparlanma ve aşılama oranlarındaki artışa rağmen salgında yeni varyantlar küresel iktisadi faaliyet üzerindeki aşağı yönlü riskleri canlı tutmaktadır.', ' Küresel talepteki toparlanma, emtia fiyatlarındaki yüksek seyir, bazı sektörlerdeki arz kısıtları ve taşımacılık maliyetlerindeki artış uluslararası ölçekte üretici ve tüketici fiyatlarının yükselmesine yol açmaktadır.', ' Başlıca tarımsal emtia ihracatçısı ülkelerde yaşanan iklim koşullarının küresel gıda fiyatları üzerinde olumsuz yansımaları görülmektedir.', ' Yüksek küresel enflasyonun, enflasyon beklentileri ve uluslararası finansal piyasalar üzerindeki etkileri yakından izlenmekle birlikte, gelişmiş ülke merkez bankaları artan enerji fiyatları ve arz-talep uyumsuzluğuna bağlı olarak enflasyonda görülen yükselişin beklenenden uzun sürebileceğini değerlendirmektedir.', ' Bu çerçevede, gelişmiş ülke merkez bankaları destekleyici parasal duruşlarını sürdürmekte, varlık alım programlarına devam etmektedir.', ' Öncü göstergeler yurt içinde iktisadi faaliyetin dış talebin de etkisiyle güçlü seyrettiğine işaret etmektedir.', ' Aşılamanın toplumun geneline yayılması salgından olumsuz etkilenen hizmetler, turizm ve bağlantılı sektörlerin canlanmasına ve iktisadi faaliyetin daha dengeli bir bileşimle sürdürülmesine olanak tanımaktadır.', ' Dayanıklı tüketim malları talebi yavaşlarken, dayanıksız tüketim mallarında toparlanma devam etmektedir.', ' İhracattaki güçlü artış eğilimiyle yılın geri kalanında yıllıklandırılmış cari işlemler denge-\\nsindeki iyileşmenin sürmesi beklenmekte, bu eğilimin güçlenerek devam etmesi fiyat istikrarı hedefi için önem arz etmektedir.']\n"
     ]
    }
   ],
   "source": [
    "print(splitter.RuleBasedSplitter(sample_text))"
   ]
  },
  {
   "cell_type": "code",
   "execution_count": 9,
   "metadata": {},
   "outputs": [
    {
     "name": "stdout",
     "output_type": "stream",
     "text": [
      "['Şahap Kavcıoğlu (Başkan), Taha Çakmak, Mustafa Duman, Elif Haykır Hobikoğlu, Emrah Şener, Yusuf Tuna.', ' Para Politikası Kurulu (Kurul), politika faizi olan bir hafta vadeli repo ihale faiz oranının yüzde 16’dan yüzde 15’e indirilmesine karar vermiştir. Küresel iktisadi faaliyette yılın ilk yarısında yaşanan toparlanma ve aşılama oranlarındaki artışa rağmen salgında yeni varyantlar küresel iktisadi faaliyet üzerindeki aşağı yönlü riskleri canlı tutmaktadır.', ' Küresel talepteki toparlanma, emtia fiyatlarındaki yüksek seyir, bazı sektörlerdeki arz kısıtları ve taşımacılık maliyetlerindeki artış uluslararası ölçekte üretici ve tüketici fiyatlarının yükselmesine yol açmaktadır.', ' Başlıca tarımsal emtia ihracatçısı ülkelerde yaşanan iklim koşullarının küresel gıda fiyatları üzerinde olumsuz yansımaları görülmektedir.', ' Yüksek küresel enflasyonun, enflasyon beklentileri ve uluslararası finansal piyasalar üzerindeki etkileri yakından izlenmekle birlikte, gelişmiş ülke merkez bankaları artan enerji fiyatları ve arz-talep uyumsuzluğuna bağlı olarak enflasyonda görülen yükselişin beklenenden uzun sürebileceğini değerlendirmektedir.', ' Bu çerçevede, gelişmiş ülke merkez bankaları destekleyici parasal duruşlarını sürdürmekte, varlık alım programlarına devam etmektedir.', ' Öncü göstergeler yurt içinde iktisadi faaliyetin dış talebin de etkisiyle güçlü seyrettiğine işaret etmektedir.', ' Aşılamanın toplumun geneline yayılması salgından olumsuz etkilenen hizmetler, turizm ve bağlantılı sektörlerin canlanmasına ve iktisadi faaliyetin daha dengeli bir bileşimle sürdürülmesine olanak tanımaktadır.', ' Dayanıklı tüketim malları talebi yavaşlarken, dayanıksız tüketim mallarında toparlanma devam etmektedir.', ' İhracattaki güçlü artış eğilimiyle yılın geri kalanında yıllıklandırılmış cari işlemler denge-\\nsindeki iyileşmenin sürmesi beklenmekte, bu eğilimin güçlenerek devam etmesi fiyat istikrarı hedefi için önem arz etmektedir.', '']\n"
     ]
    }
   ],
   "source": [
    "print(splitter.NaiveBayesSplitter(sample_text))"
   ]
  },
  {
   "cell_type": "code",
   "execution_count": 10,
   "metadata": {},
   "outputs": [
    {
     "name": "stdout",
     "output_type": "stream",
     "text": [
      "              precision    recall  f1-score   support\n",
      "\n",
      "           0       0.00      0.00      0.00         0\n",
      "           1       1.00      1.00      1.00      1649\n",
      "\n",
      "    accuracy                           1.00      1649\n",
      "   macro avg       0.50      0.50      0.50      1649\n",
      "weighted avg       1.00      1.00      1.00      1649\n",
      "\n"
     ]
    },
    {
     "name": "stderr",
     "output_type": "stream",
     "text": [
      "/home/kara/anaconda3/lib/python3.8/site-packages/sklearn/metrics/_classification.py:1245: UndefinedMetricWarning: Recall and F-score are ill-defined and being set to 0.0 in labels with no true samples. Use `zero_division` parameter to control this behavior.\n",
      "  _warn_prf(average, modifier, msg_start, len(result))\n",
      "/home/kara/anaconda3/lib/python3.8/site-packages/sklearn/metrics/_classification.py:1245: UndefinedMetricWarning: Recall and F-score are ill-defined and being set to 0.0 in labels with no true samples. Use `zero_division` parameter to control this behavior.\n",
      "  _warn_prf(average, modifier, msg_start, len(result))\n",
      "/home/kara/anaconda3/lib/python3.8/site-packages/sklearn/metrics/_classification.py:1245: UndefinedMetricWarning: Recall and F-score are ill-defined and being set to 0.0 in labels with no true samples. Use `zero_division` parameter to control this behavior.\n",
      "  _warn_prf(average, modifier, msg_start, len(result))\n"
     ]
    }
   ],
   "source": [
    "print(splitter.model_accuracy())"
   ]
  },
  {
   "cell_type": "markdown",
   "metadata": {},
   "source": [
    "## Normalization"
   ]
  },
  {
   "cell_type": "code",
   "execution_count": 11,
   "metadata": {},
   "outputs": [],
   "source": [
    "normalization = Normalization()"
   ]
  },
  {
   "cell_type": "code",
   "execution_count": 12,
   "metadata": {},
   "outputs": [
    {
     "data": {
      "text/plain": [
       "'şahap kavcıoğlu (başkan) taha çakmak mustafa duman elif haykır hobikoğlu emrah şener yusuf tuna. para politikası kurulu (kurul) politika faizi olan bir hafta vadeli repo ihale faiz oranının yüzde 16’dan yüzde 15’e indirilmesine karar_ver. küresel iktisadi faaliyette yılın ilk yarısında yaşanan toparlanma ve aşılama oranlarındaki artışa rağmen salgında yeni varyantlar küresel iktisadi faaliyet üzerindeki aşağı yönlü riskleri canlı tutmaktadır. küresel talepteki toparlanma emtia fiyatlarındaki yüksek seyir bazı sektörlerdeki arz kısıtları ve taşımacılık maliyetlerindeki artış uluslararası ölçekte üretici ve tüketici fiyatlarının yükselmesine yol_aç. başlıca tarımsal emtia ihracatçısı ülkelerde yaşanan iklim koşullarının küresel gıda fiyatları üzerinde olumsuz yansımaları görülmektedir. yüksek küresel enflasyonun enflasyon beklentileri ve uluslararası finansal piyasalar üzerindeki etkileri yakından izlenmekle birlikte gelişmiş ülke merkez bankaları artan enerji fiyatları ve arz-talep uyumsuzluğuna bsağ_ol enflasyonda görülen yükselişin beklenenden uzun sürebileceğini değerlendirmektedir. bu çerçevede gelişmiş ülke merkez bankal_destet parasal duruşlarını sürdürmekte varlık alım programlarına devam_et. öncü göstergeler yurt içinde iktisadi faaliyetin dış talebin de etkisiyle güçlü seyrettiğine işaret_et. aşılamanın toplumun geneline yayılması salgından olumsuz etkilenen hizmetler turizm ve bağlantılı sektörlerin canlanmasına ve iktisadi faaliyetin daha dengeli bir bileşimle sürdürülmesine_ol tanımaktadır. dayanıklı tüketim malları talebi yavaşlarken dayanıksız tüketim mallarında toparlanma devam_et. i̇hracattaki güçlü artış eğilimiyle yılın geri kalanında yıllıklandırılmış cari işlemler dengesindeki iyileşmenin sürmesi beklenmekte bu eğilimin güçlenerek devam_et fiyat istikrarı hedefi için önem arz_et.'"
      ]
     },
     "execution_count": 12,
     "metadata": {},
     "output_type": "execute_result"
    }
   ],
   "source": [
    "normalization.normalize(sample_text)"
   ]
  },
  {
   "cell_type": "markdown",
   "metadata": {},
   "source": [
    "## Stemmer"
   ]
  },
  {
   "cell_type": "code",
   "execution_count": 13,
   "metadata": {},
   "outputs": [],
   "source": [
    "stemmer = Stemmer()"
   ]
  },
  {
   "cell_type": "code",
   "execution_count": 14,
   "metadata": {},
   "outputs": [
    {
     "name": "stdout",
     "output_type": "stream",
     "text": [
      "Token:  Şahap Stem: Şahap Morphology:  []\n",
      "Token:  Kavcıoğlu Stem: Kavcıok Morphology:  ['Derivation=With']\n",
      "Token:  (Başkan) Stem: (Başkan) Morphology:  []\n",
      "Token:  Taha Stem: Taha Morphology:  []\n",
      "Token:  Çakmak Stem: Çak Morphology:  ['PersonNumber=V1pl', 'Polarity=Neg']\n",
      "Token:  Mustafa Stem: Mustafa Morphology:  []\n",
      "Token:  Duman Stem: Dum Morphology:  ['Voice=Rfx']\n",
      "Token:  Elif Stem: Elif Morphology:  []\n",
      "Token:  Haykır Stem: Haykır Morphology:  []\n",
      "Token:  Hobikoğlu Stem: Hobikok Morphology:  ['Derivation=With']\n",
      "Token:  Emrah Stem: Emrah Morphology:  []\n",
      "Token:  Şener Stem: Şen Morphology:  ['NumberType=Dist']\n",
      "Token:  Yusuf Stem: Yusuf Morphology:  []\n",
      "Token:  Tuna Stem: Tuna Morphology:  []\n",
      "Token:  Para Stem: Para Morphology:  []\n",
      "Token:  Politikası Stem: Politika Morphology:  ['Case=Acc']\n",
      "Token:  Kurulu Stem: Kur Morphology:  ['Case=Acc', 'Voice=Pass']\n",
      "Token:  (Kurul) Stem: (Kurul) Morphology:  []\n",
      "Token:  politika Stem: politika Morphology:  []\n",
      "Token:  faizi Stem: faiz Morphology:  ['Case=Acc']\n",
      "Token:  olan Stem: ol Morphology:  ['Voice=Rfx']\n",
      "Token:  bir Stem: bir Morphology:  []\n",
      "Token:  hafta Stem: haf Morphology:  ['Case=Loc']\n",
      "Token:  vadeli Stem: vadel Morphology:  ['Case=Acc']\n",
      "Token:  repo Stem: repo Morphology:  []\n",
      "Token:  ihale Stem: iha Morphology:  ['Case=Ins']\n",
      "Token:  faiz Stem: faiz Morphology:  []\n",
      "Token:  oranının Stem: oranı Morphology:  ['PersonNumber=V2sg']\n",
      "Token:  yüzde Stem: yüz Morphology:  ['Case=Loc']\n",
      "Token:  16’dan Stem: 16’dan Morphology:  []\n",
      "Token:  yüzde Stem: yüz Morphology:  ['Case=Loc']\n",
      "Token:  15’e Stem: 15’e Morphology:  []\n",
      "Token:  indirilmesine Stem: indir Morphology:  ['Case=Dat', 'Possessive=P3sg', 'Polarity=Neg', 'Voice=Pass']\n",
      "Token:  karar Stem: kar Morphology:  ['NumberType=Dist']\n",
      "Token:  vermiştir Stem: ver Morphology:  ['Copula=GenCop', 'Copula=EvCop']\n",
      "Token:  Küresel Stem: Küre Morphology:  ['Derivation=Rtd']\n",
      "Token:  iktisadi Stem: ikti Morphology:  ['Copula=PastCop', 'Copula=CndCop']\n",
      "Token:  faaliyette Stem: faaliye Morphology:  ['Case=Loc', 'Voice=Cau']\n",
      "Token:  yılın Stem: yıl Morphology:  ['PersonNumber=V2sg']\n",
      "Token:  ilk Stem: ilk Morphology:  []\n",
      "Token:  yarısında Stem: yar Morphology:  ['Case=Loc', 'Case=Acc', 'Possessive=P3sg']\n",
      "Token:  yaşanan Stem: yaş Morphology:  ['Voice=Rfx', 'Derivation=PresNom']\n",
      "Token:  toparlanma Stem: toparlan Morphology:  ['Polarity=Neg']\n",
      "Token:  ve Stem: ve Morphology:  []\n",
      "Token:  aşılama Stem: aşı Morphology:  ['Polarity=Neg', 'Derivation=Make']\n",
      "Token:  oranlarındaki Stem: oran Morphology:  ['Derivation=Rel', 'Case=Loc', 'Possessive=P3pl']\n",
      "Token:  artışa Stem: artışa Morphology:  []\n",
      "Token:  rağmen Stem: rağmen Morphology:  []\n",
      "Token:  salgında Stem: salgı Morphology:  ['Case=Loc']\n",
      "Token:  yeni Stem: yen Morphology:  ['Possessive=P3sg']\n",
      "Token:  varyantlar Stem: varyantlar Morphology:  []\n",
      "Token:  küresel Stem: küre Morphology:  ['Derivation=Rtd']\n",
      "Token:  iktisadi Stem: ikti Morphology:  ['Copula=PastCop', 'Copula=CndCop']\n",
      "Token:  faaliyet Stem: faaliye Morphology:  ['Voice=Cau']\n",
      "Token:  üzerindeki Stem: üzer Morphology:  ['Derivation=Rel', 'Case=Loc', 'Case=Acc']\n",
      "Token:  aşağı Stem: aşa Morphology:  ['Case=Acc', 'PersonNumber=V1pl']\n",
      "Token:  yönlü Stem: yönlü Morphology:  []\n",
      "Token:  riskleri Stem: riskler Morphology:  ['Case=Acc']\n",
      "Token:  canlı Stem: can Morphology:  ['Derivation=With']\n",
      "Token:  tutmaktadır Stem: tut Morphology:  ['Copula=GenCop', 'Case=Loc', 'PersonNumber=V1pl', 'Polarity=Neg']\n",
      "Token:  Küresel Stem: Küre Morphology:  ['Derivation=Rtd']\n",
      "Token:  talepteki Stem: talep Morphology:  ['Derivation=Rel', 'Case=Loc']\n",
      "Token:  toparlanma Stem: toparlan Morphology:  ['Polarity=Neg']\n",
      "Token:  emtia Stem: emtia Morphology:  []\n",
      "Token:  fiyatlarındaki Stem: fiya Morphology:  ['Derivation=Rel', 'Case=Loc', 'Possessive=P3pl', 'Voice=Cau']\n",
      "Token:  yüksek Stem: yük Morphology:  ['PersonNumber=V1pl', 'TenseAspectMood=Desr']\n",
      "Token:  seyir Stem: sey Morphology:  ['TenseAspectMood=Aor']\n",
      "Token:  bazı Stem: baz Morphology:  ['Case=Acc']\n",
      "Token:  sektörlerdeki Stem: sektörler Morphology:  ['Derivation=Rel', 'Case=Loc']\n",
      "Token:  arz Stem: arz Morphology:  []\n",
      "Token:  kısıtları Stem: kısı Morphology:  ['Possessive=P3pl', 'Voice=Cau']\n",
      "Token:  ve Stem: ve Morphology:  []\n",
      "Token:  taşımacılık Stem: taşı Morphology:  ['PersonNumber=V1pl', 'Derivation=With', 'Derivation=Agt', 'Derivation=Nonf']\n",
      "Token:  maliyetlerindeki Stem: maliye Morphology:  ['Derivation=Rel', 'Case=Loc', 'Possessive=P3pl', 'Voice=Cau']\n",
      "Token:  artış Stem: artış Morphology:  []\n",
      "Token:  uluslararası Stem: uluslarara Morphology:  ['Case=Acc']\n",
      "Token:  ölçekte Stem: ölçe Morphology:  ['Case=Loc', 'PersonNumber=V1pl']\n",
      "Token:  üretici Stem: üretic Morphology:  ['Case=Acc']\n",
      "Token:  ve Stem: ve Morphology:  []\n",
      "Token:  tüketici Stem: tüketic Morphology:  ['Case=Acc']\n",
      "Token:  fiyatlarının Stem: fiyatları Morphology:  ['PersonNumber=V2sg']\n",
      "Token:  yükselmesine Stem: yük Morphology:  ['Case=Dat', 'Possessive=P3sg', 'Polarity=Neg', 'Derivation=Rtd']\n",
      "Token:  yol Stem: yol Morphology:  []\n",
      "Token:  açmaktadır Stem: açma Morphology:  ['Copula=GenCop', 'Case=Loc', 'PersonNumber=V1pl']\n",
      "Token:  Başlıca Stem: Baş Morphology:  ['Derivation=Act', 'Derivation=With']\n",
      "Token:  tarımsal Stem: tarım Morphology:  ['Derivation=Rtd']\n",
      "Token:  emtia Stem: emtia Morphology:  []\n",
      "Token:  ihracatçısı Stem: ihracat Morphology:  ['Case=Acc', 'Derivation=Agt']\n",
      "Token:  ülkelerde Stem: ülke Morphology:  ['Case=Loc', 'PersonNumber=V3pl']\n",
      "Token:  yaşanan Stem: yaş Morphology:  ['Voice=Rfx', 'Derivation=PresNom']\n",
      "Token:  iklim Stem: iklim Morphology:  []\n",
      "Token:  koşullarının Stem: koşulları Morphology:  ['PersonNumber=V2sg']\n",
      "Token:  küresel Stem: küre Morphology:  ['Derivation=Rtd']\n",
      "Token:  gıda Stem: gıda Morphology:  []\n",
      "Token:  fiyatları Stem: fiya Morphology:  ['Possessive=P3pl', 'Voice=Cau']\n",
      "Token:  üzerinde Stem: üzer Morphology:  ['Case=Loc', 'Case=Acc']\n",
      "Token:  olumsuz Stem: ol Morphology:  ['Derivation=Wout1', 'PersonNumber=V1sg']\n",
      "Token:  yansımaları Stem: yansı Morphology:  ['Possessive=P3pl', 'Polarity=Neg']\n",
      "Token:  görülmektedir Stem: görül Morphology:  ['Copula=GenCop', 'Case=Loc', 'PersonNumber=V1pl', 'Polarity=Neg']\n",
      "Token:  Yüksek Stem: Yük Morphology:  ['PersonNumber=V1pl', 'TenseAspectMood=Desr']\n",
      "Token:  küresel Stem: küre Morphology:  ['Derivation=Rtd']\n",
      "Token:  enflasyonun Stem: enflasyo Morphology:  ['PersonNumber=V2sg']\n",
      "Token:  enflasyon Stem: enflasyon Morphology:  []\n",
      "Token:  beklentileri Stem: beklen Morphology:  ['Possessive=P3pl', 'TenseAspectMood=Past']\n",
      "Token:  ve Stem: ve Morphology:  []\n",
      "Token:  uluslararası Stem: uluslarara Morphology:  ['Case=Acc']\n",
      "Token:  finansal Stem: fin Morphology:  ['Derivation=Rtd', 'Derivation=PresNom']\n",
      "Token:  piyasalar Stem: piya Morphology:  ['Possessive=P3pl1', 'TenseAspectMood=Desr']\n",
      "Token:  üzerindeki Stem: üzer Morphology:  ['Derivation=Rel', 'Case=Loc', 'Case=Acc']\n",
      "Token:  etkileri Stem: etki Morphology:  ['Possessive=P3pl']\n",
      "Token:  yakından Stem: yak Morphology:  ['Case=Abl', 'PersonNumber=V2sg']\n",
      "Token:  izlenmekle Stem: izlen Morphology:  ['Case=Ins', 'PersonNumber=V1pl', 'Polarity=Neg']\n",
      "Token:  birlikte Stem: bir Morphology:  ['Case=Loc', 'PersonNumber=V1pl', 'Derivation=With']\n",
      "Token:  gelişmiş Stem: gel Morphology:  ['Copula=EvCop', 'Derivation=Nonf']\n",
      "Token:  ülke Stem: ülke Morphology:  []\n",
      "Token:  merkez Stem: merkez Morphology:  []\n",
      "Token:  bankaları Stem: banka Morphology:  ['Possessive=P3pl']\n",
      "Token:  artan Stem: artan Morphology:  []\n",
      "Token:  enerji Stem: enerji Morphology:  []\n",
      "Token:  fiyatları Stem: fiya Morphology:  ['Possessive=P3pl', 'Voice=Cau']\n",
      "Token:  ve Stem: ve Morphology:  []\n",
      "Token:  arz-talep Stem: arz-talep Morphology:  []\n",
      "Token:  uyumsuzluğuna Stem: uyumsuz Morphology:  ['Case=Dat', 'Possessive=P3sg', 'PersonNumber=V1pl', 'Derivation=With']\n",
      "Token:  bağlı Stem: bak Morphology:  ['Derivation=With']\n",
      "Token:  olarak Stem: ol Morphology:  ['Derivation=Ger_1']\n",
      "Token:  enflasyonda Stem: enflasyo Morphology:  ['Case=Loc']\n",
      "Token:  görülen Stem: görü Morphology:  ['Derivation=Acq']\n",
      "Token:  yükselişin Stem: yüksel Morphology:  ['PersonNumber=V2sg', 'Derivation=Nonf']\n",
      "Token:  beklenenden Stem: beklen Morphology:  ['Case=Abl', 'Voice=Rfx']\n",
      "Token:  uzun Stem: uzun Morphology:  []\n",
      "Token:  sürebileceğini Stem: sür Morphology:  ['Case=Acc', 'Possessive=P3sg', 'TenseAspectMood=Fut', 'Derivation=Able']\n",
      "Token:  değerlendirmektedir Stem: değerlen Morphology:  ['Copula=GenCop', 'Case=Loc', 'PersonNumber=V1pl', 'Polarity=Neg', 'Voice=Cau']\n",
      "Token:  Bu Stem: Bu Morphology:  []\n",
      "Token:  çerçevede Stem: çerçeve Morphology:  ['Case=Loc']\n",
      "Token:  gelişmiş Stem: gel Morphology:  ['Copula=EvCop', 'Derivation=Nonf']\n",
      "Token:  ülke Stem: ülke Morphology:  []\n",
      "Token:  merkez Stem: merkez Morphology:  []\n",
      "Token:  bankaları Stem: banka Morphology:  ['Possessive=P3pl']\n",
      "Token:  destekleyici Stem: destekleyic Morphology:  ['Case=Acc']\n",
      "Token:  parasal Stem: para Morphology:  ['Derivation=Rtd']\n",
      "Token:  duruşlarını Stem: dur Morphology:  ['Case=Acc', 'Possessive=P3sg', 'PersonNumber=V3pl', 'Derivation=Nonf']\n",
      "Token:  sürdürmekte Stem: sür Morphology:  ['Case=Loc', 'PersonNumber=V1pl', 'Polarity=Neg', 'Derivation=Since']\n",
      "Token:  varlık Stem: var Morphology:  ['PersonNumber=V1pl', 'Derivation=With']\n",
      "Token:  alım Stem: al Morphology:  ['PersonNumber=V1sg']\n",
      "Token:  programlarına Stem: program Morphology:  ['Case=Dat', 'Possessive=P3sg', 'PersonNumber=V3pl']\n",
      "Token:  devam Stem: devam Morphology:  []\n",
      "Token:  etmektedir Stem: et Morphology:  ['Copula=GenCop', 'Case=Loc', 'PersonNumber=V1pl', 'Polarity=Neg']\n",
      "Token:  Öncü Stem: Öncü Morphology:  []\n",
      "Token:  göstergeler Stem: gösterge Morphology:  ['Possessive=P3pl1']\n",
      "Token:  yurt Stem: yur Morphology:  ['Voice=Cau']\n",
      "Token:  içinde Stem: içi Morphology:  ['Case=Loc']\n",
      "Token:  iktisadi Stem: ikti Morphology:  ['Copula=PastCop', 'Copula=CndCop']\n",
      "Token:  faaliyetin Stem: faaliye Morphology:  ['PersonNumber=V2sg', 'Voice=Cau']\n",
      "Token:  dış Stem: dış Morphology:  []\n",
      "Token:  talebin Stem: taleb Morphology:  ['PersonNumber=V2sg']\n",
      "Token:  de Stem: de Morphology:  []\n",
      "Token:  etkisiyle Stem: etki Morphology:  ['Case=Ins', 'Case=Acc']\n",
      "Token:  güçlü Stem: güç Morphology:  ['Derivation=With']\n",
      "Token:  seyrettiğine Stem: seyre Morphology:  ['Case=Dat', 'Possessive=P3sg', 'PersonNumber=V1pl', 'TenseAspectMood=Past', 'Voice=Cau']\n",
      "Token:  işaret Stem: işare Morphology:  ['Voice=Cau']\n",
      "Token:  etmektedir Stem: et Morphology:  ['Copula=GenCop', 'Case=Loc', 'PersonNumber=V1pl', 'Polarity=Neg']\n",
      "Token:  Aşılamanın Stem: Aşı Morphology:  ['PersonNumber=V2sg', 'Polarity=Neg', 'Derivation=Make']\n",
      "Token:  toplumun Stem: toplum Morphology:  ['PersonNumber=V2sg']\n",
      "Token:  geneline Stem: genel Morphology:  ['Case=Dat', 'Possessive=P3sg']\n",
      "Token:  yayılması Stem: yay Morphology:  ['Case=Acc', 'Polarity=Neg', 'Voice=Pass']\n",
      "Token:  salgından Stem: salgın Morphology:  ['Case=Abl']\n",
      "Token:  olumsuz Stem: ol Morphology:  ['Derivation=Wout1', 'PersonNumber=V1sg']\n",
      "Token:  etkilenen Stem: etkil Morphology:  ['Voice=Rfx', 'Derivation=PresNom']\n",
      "Token:  hizmetler Stem: hiz Morphology:  ['Possessive=P3pl1', 'Voice=Cau', 'Derivation=Nonf']\n",
      "Token:  turizm Stem: tur Morphology:  ['Derivation=Doct']\n",
      "Token:  ve Stem: ve Morphology:  []\n",
      "Token:  bağlantılı Stem: bağlantıl Morphology:  ['Case=Acc']\n",
      "Token:  sektörlerin Stem: sektörler Morphology:  ['PersonNumber=V2sg']\n",
      "Token:  canlanmasına Stem: canlan Morphology:  ['Case=Dat', 'Possessive=P3sg', 'Polarity=Neg']\n",
      "Token:  ve Stem: ve Morphology:  []\n",
      "Token:  iktisadi Stem: ikti Morphology:  ['Copula=PastCop', 'Copula=CndCop']\n",
      "Token:  faaliyetin Stem: faaliye Morphology:  ['PersonNumber=V2sg', 'Voice=Cau']\n",
      "Token:  daha Stem: daha Morphology:  []\n",
      "Token:  dengeli Stem: dengel Morphology:  ['Case=Acc']\n",
      "Token:  bir Stem: bir Morphology:  []\n",
      "Token:  bileşimle Stem: bileş Morphology:  ['Case=Ins', 'PersonNumber=V1sg']\n",
      "Token:  sürdürülmesine Stem: sür Morphology:  ['Case=Dat', 'Possessive=P3sg', 'Polarity=Neg', 'Voice=Pass', 'Derivation=Since']\n",
      "Token:  olanak Stem: olana Morphology:  ['PersonNumber=V1pl']\n",
      "Token:  tanımaktadır Stem: tanı Morphology:  ['Copula=GenCop', 'Case=Loc', 'PersonNumber=V1pl', 'Polarity=Neg']\n",
      "Token:  Dayanıklı Stem: Dayanık Morphology:  ['Derivation=With']\n",
      "Token:  tüketim Stem: tüke Morphology:  ['PersonNumber=V1sg', 'Voice=Cau']\n",
      "Token:  malları Stem: mal Morphology:  ['Possessive=P3pl']\n",
      "Token:  talebi Stem: taleb Morphology:  ['Case=Acc']\n",
      "Token:  yavaşlarken Stem: yavaş Morphology:  ['Copula=CndCop1', 'Possessive=P3pl1']\n",
      "Token:  dayanıksız Stem: dayanı Morphology:  ['Derivation=Wout1', 'PersonNumber=V1pl']\n",
      "Token:  tüketim Stem: tüke Morphology:  ['PersonNumber=V1sg', 'Voice=Cau']\n",
      "Token:  mallarında Stem: mal Morphology:  ['Case=Loc', 'Possessive=P3pl']\n",
      "Token:  toparlanma Stem: toparlan Morphology:  ['Polarity=Neg']\n",
      "Token:  devam Stem: devam Morphology:  []\n",
      "Token:  etmektedir Stem: et Morphology:  ['Copula=GenCop', 'Case=Loc', 'PersonNumber=V1pl', 'Polarity=Neg']\n",
      "Token:  İhracattaki Stem: İhra Morphology:  ['Derivation=Rel', 'Case=Loc', 'Voice=Cau', 'Derivation=Act']\n",
      "Token:  güçlü Stem: güç Morphology:  ['Derivation=With']\n",
      "Token:  artış Stem: artış Morphology:  []\n",
      "Token:  eğilimiyle Stem: eğil Morphology:  ['Case=Ins', 'Case=Acc', 'PersonNumber=V1sg']\n",
      "Token:  yılın Stem: yıl Morphology:  ['PersonNumber=V2sg']\n",
      "Token:  geri Stem: ger Morphology:  ['Case=Acc']\n",
      "Token:  kalanında Stem: kala Morphology:  ['Case=Loc', 'Case=Acc']\n",
      "Token:  yıllıklandırılmış Stem: yıllıklan Morphology:  ['Copula=EvCop', 'Voice=Pass', 'Derivation=Since']\n",
      "Token:  cari Stem: car Morphology:  ['Case=Acc']\n",
      "Token:  işlemler Stem: işlem Morphology:  ['Possessive=P3pl1']\n",
      "Token:  denge-\n",
      "sindeki Stem: denge-\n",
      "si Morphology:  ['Derivation=Rel', 'Case=Loc']\n",
      "Token:  iyileşmenin Stem: iyi Morphology:  ['PersonNumber=V2sg', 'Polarity=Neg', 'Derivation=Bcm']\n",
      "Token:  sürmesi Stem: sür Morphology:  ['Case=Acc', 'Polarity=Neg']\n",
      "Token:  beklenmekte Stem: beklen Morphology:  ['Case=Loc', 'PersonNumber=V1pl', 'Polarity=Neg']\n",
      "Token:  bu Stem: bu Morphology:  []\n",
      "Token:  eğilimin Stem: eğil Morphology:  ['PersonNumber=V2sg', 'PersonNumber=V1sg']\n",
      "Token:  güçlenerek Stem: güç Morphology:  ['Derivation=Ger_1', 'Derivation=Acq']\n",
      "Token:  devam Stem: devam Morphology:  []\n",
      "Token:  etmesi Stem: et Morphology:  ['Case=Acc', 'Polarity=Neg']\n",
      "Token:  fiyat Stem: fiya Morphology:  ['Voice=Cau']\n",
      "Token:  istikrarı Stem: istikrar Morphology:  ['Case=Acc']\n",
      "Token:  hedefi Stem: hedef Morphology:  ['Case=Acc']\n",
      "Token:  için Stem: için Morphology:  []\n",
      "Token:  önem Stem: önem Morphology:  []\n",
      "Token:  arz Stem: arz Morphology:  []\n",
      "Token:  etmektedir Stem: et Morphology:  ['Copula=GenCop', 'Case=Loc', 'PersonNumber=V1pl', 'Polarity=Neg']\n"
     ]
    }
   ],
   "source": [
    "for token  in tokenizer.LogisticTokenizer(sample_text):\n",
    "    stem, morphology = stemmer.get_stem(token)\n",
    "    print(\"Token: \",token, \"Stem:\", stem, \"Morphology: \", morphology)"
   ]
  },
  {
   "cell_type": "markdown",
   "metadata": {},
   "source": [
    "## Stopwords"
   ]
  },
  {
   "cell_type": "code",
   "execution_count": 15,
   "metadata": {},
   "outputs": [],
   "source": [
    "stopwords = StopwordRemoval(type=\"custom\", top_k=50)\n",
    "#stopwords = StopwordRemoval(type=\"lexicon\")"
   ]
  },
  {
   "cell_type": "code",
   "execution_count": 16,
   "metadata": {},
   "outputs": [
    {
     "name": "stdout",
     "output_type": "stream",
     "text": [
      "['bir', 'bu', 've', 'gibi', 'de', 'da', 'o', 'için', 'her', 'kadar', 'sonra', 'ben', 'ile', 'ki', 'çok', 'iki', 'içinde', 'daha', 'ne', 'bütün', 'gün', 'diye', 'bile', 'onun', 'vardı', 'bana', 'var', 'ama', 'değil', 'büyük', 'beni', 'adam', 'onu', 'şimdi', 'böyle', 'hiç', 'artık', 'zaman', 'olan', 'şey', 'benim', 'üç', 'en', 'beş', 'bizim', 'ona', 'sen', 'oldu', 'kadın', 'pek']\n"
     ]
    }
   ],
   "source": [
    "print(stopwords.stopwords)"
   ]
  },
  {
   "cell_type": "code",
   "execution_count": 17,
   "metadata": {},
   "outputs": [
    {
     "name": "stdout",
     "output_type": "stream",
     "text": [
      "['Şahap', 'Kavcıoğlu', '(Başkan)', 'Taha', 'Çakmak', 'Mustafa', 'Duman', 'Elif', 'Haykır', 'Hobikoğlu', 'Emrah', 'Şener', 'Yusuf', 'Tuna', 'Para', 'Politikası', 'Kurulu', '(Kurul)', 'politika', 'faizi', 'hafta', 'vadeli', 'repo', 'ihale', 'faiz', 'oranının', 'yüzde', '16’dan', 'yüzde', '15’e', 'indirilmesine', 'karar', 'vermiştir', 'Küresel', 'iktisadi', 'faaliyette', 'yılın', 'ilk', 'yarısında', 'yaşanan', 'toparlanma', 'aşılama', 'oranlarındaki', 'artışa', 'rağmen', 'salgında', 'yeni', 'varyantlar', 'küresel', 'iktisadi', 'faaliyet', 'üzerindeki', 'aşağı', 'yönlü', 'riskleri', 'canlı', 'tutmaktadır', 'Küresel', 'talepteki', 'toparlanma', 'emtia', 'fiyatlarındaki', 'yüksek', 'seyir', 'bazı', 'sektörlerdeki', 'arz', 'kısıtları', 'taşımacılık', 'maliyetlerindeki', 'artış', 'uluslararası', 'ölçekte', 'üretici', 'tüketici', 'fiyatlarının', 'yükselmesine', 'yol', 'açmaktadır', 'Başlıca', 'tarımsal', 'emtia', 'ihracatçısı', 'ülkelerde', 'yaşanan', 'iklim', 'koşullarının', 'küresel', 'gıda', 'fiyatları', 'üzerinde', 'olumsuz', 'yansımaları', 'görülmektedir', 'Yüksek', 'küresel', 'enflasyonun', 'enflasyon', 'beklentileri', 'uluslararası', 'finansal', 'piyasalar', 'üzerindeki', 'etkileri', 'yakından', 'izlenmekle', 'birlikte', 'gelişmiş', 'ülke', 'merkez', 'bankaları', 'artan', 'enerji', 'fiyatları', 'arz-talep', 'uyumsuzluğuna', 'bağlı', 'olarak', 'enflasyonda', 'görülen', 'yükselişin', 'beklenenden', 'uzun', 'sürebileceğini', 'değerlendirmektedir', 'Bu', 'çerçevede', 'gelişmiş', 'ülke', 'merkez', 'bankaları', 'destekleyici', 'parasal', 'duruşlarını', 'sürdürmekte', 'varlık', 'alım', 'programlarına', 'devam', 'etmektedir', 'Öncü', 'göstergeler', 'yurt', 'iktisadi', 'faaliyetin', 'dış', 'talebin', 'etkisiyle', 'güçlü', 'seyrettiğine', 'işaret', 'etmektedir', 'Aşılamanın', 'toplumun', 'geneline', 'yayılması', 'salgından', 'olumsuz', 'etkilenen', 'hizmetler', 'turizm', 'bağlantılı', 'sektörlerin', 'canlanmasına', 'iktisadi', 'faaliyetin', 'dengeli', 'bileşimle', 'sürdürülmesine', 'olanak', 'tanımaktadır', 'Dayanıklı', 'tüketim', 'malları', 'talebi', 'yavaşlarken', 'dayanıksız', 'tüketim', 'mallarında', 'toparlanma', 'devam', 'etmektedir', 'İhracattaki', 'güçlü', 'artış', 'eğilimiyle', 'yılın', 'geri', 'kalanında', 'yıllıklandırılmış', 'cari', 'işlemler', 'denge-\\nsindeki', 'iyileşmenin', 'sürmesi', 'beklenmekte', 'eğilimin', 'güçlenerek', 'devam', 'etmesi', 'fiyat', 'istikrarı', 'hedefi', 'önem', 'arz', 'etmektedir']\n"
     ]
    }
   ],
   "source": [
    "print(stopwords.remove(tokenizer.LogisticTokenizer(sample_text)))"
   ]
  }
 ],
 "metadata": {
  "interpreter": {
   "hash": "1b2ee09346b12b20666ff8ab9c6a805ce59525a9c9e560212a0c04b65e7b17e0"
  },
  "kernelspec": {
   "display_name": "Python 3.8.8 64-bit ('base': conda)",
   "language": "python",
   "name": "python3"
  },
  "language_info": {
   "codemirror_mode": {
    "name": "ipython",
    "version": 3
   },
   "file_extension": ".py",
   "mimetype": "text/x-python",
   "name": "python",
   "nbconvert_exporter": "python",
   "pygments_lexer": "ipython3",
   "version": "3.8.8"
  },
  "orig_nbformat": 4
 },
 "nbformat": 4,
 "nbformat_minor": 2
}
